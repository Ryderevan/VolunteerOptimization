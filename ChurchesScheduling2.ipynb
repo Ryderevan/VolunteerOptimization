{
 "cells": [
  {
   "cell_type": "code",
   "execution_count": 1,
   "id": "8525ed8e",
   "metadata": {},
   "outputs": [],
   "source": [
    "from ortools.sat.python import cp_model\n",
    "import pandas as pd\n",
    "import math\n",
    "import streamlit as st"
   ]
  },
  {
   "cell_type": "code",
   "execution_count": 100,
   "id": "d4892a64",
   "metadata": {},
   "outputs": [],
   "source": [
    "churches = range(13)\n",
    "model = cp_model.CpModel()"
   ]
  },
  {
   "cell_type": "code",
   "execution_count": 101,
   "id": "c656e28a",
   "metadata": {},
   "outputs": [],
   "source": [
    "scheduled_times = {}"
   ]
  },
  {
   "cell_type": "code",
   "execution_count": 102,
   "id": "da50dafa",
   "metadata": {},
   "outputs": [],
   "source": [
    "#Create variables and add constraint to ensure as column number increases, number increases\n",
    "for c in churches:\n",
    "    for i in range(4):\n",
    "        scheduled_times[c,i] = model.NewIntVar(0, 52, f'church_{c}_for_the_{i}_time')\n",
    "        if i>0:\n",
    "            model.Add(scheduled_times[c, i-1]<scheduled_times[c,i])"
   ]
  },
  {
   "cell_type": "code",
   "execution_count": 103,
   "id": "bae24930",
   "metadata": {},
   "outputs": [],
   "source": [
    "#No times equal to eachother\n",
    "for c1, t1 in scheduled_times:\n",
    "    for c2, t2 in scheduled_times:\n",
    "        if c1 != c2: #check validity\n",
    "            model.Add(scheduled_times[c1, t1] != scheduled_times[c2, t2])"
   ]
  },
  {
   "cell_type": "code",
   "execution_count": 104,
   "id": "cd2cb656",
   "metadata": {},
   "outputs": [],
   "source": [
    "#8 weeks apart constraint\n",
    "\n",
    "for c in churches:\n",
    "    for t in range(4):\n",
    "        if t>0 and c < 10:\n",
    "            model.Add(scheduled_times[c, t-1]+8 <= scheduled_times[c, t])"
   ]
  },
  {
   "cell_type": "code",
   "execution_count": 105,
   "id": "ecac7a34",
   "metadata": {},
   "outputs": [],
   "source": [
    "#Requests for unavailability\n",
    "unavailable = [[0,6],\n",
    "               [4,10],\n",
    "               [4,18],\n",
    "               [7,13]]\n",
    "for c, w in unavailable:\n",
    "    for t in range(4):\n",
    "        model.Add(scheduled_times[c, t] != w)"
   ]
  },
  {
   "cell_type": "code",
   "execution_count": 106,
   "id": "ede82d17",
   "metadata": {},
   "outputs": [],
   "source": [
    "solver = cp_model.CpSolver()\n",
    "solver.parameters.linearization_level = 0\n",
    "# Enumerate all solutions.\n",
    "solver.parameters.enumerate_all_solutions = False"
   ]
  },
  {
   "cell_type": "code",
   "execution_count": 108,
   "id": "1bee0b87",
   "metadata": {},
   "outputs": [],
   "source": [
    "model.Maximize(scheduled_times[c, t] - scheduled_times[c, t-1])"
   ]
  },
  {
   "cell_type": "code",
   "execution_count": 109,
   "id": "225f6ea7",
   "metadata": {},
   "outputs": [
    {
     "data": {
      "text/plain": [
       "4"
      ]
     },
     "execution_count": 109,
     "metadata": {},
     "output_type": "execute_result"
    }
   ],
   "source": [
    "solver.Solve(model)"
   ]
  },
  {
   "cell_type": "code",
   "execution_count": 110,
   "id": "bcd25a76",
   "metadata": {},
   "outputs": [
    {
     "name": "stdout",
     "output_type": "stream",
     "text": [
      "18\n",
      "26\n",
      "34\n",
      "45\n",
      "19\n",
      "27\n",
      "35\n",
      "43\n",
      "2\n",
      "13\n",
      "33\n",
      "42\n",
      "7\n",
      "15\n",
      "32\n",
      "44\n",
      "20\n",
      "28\n",
      "36\n",
      "51\n",
      "17\n",
      "25\n",
      "37\n",
      "50\n",
      "21\n",
      "29\n",
      "38\n",
      "49\n",
      "0\n",
      "8\n",
      "16\n",
      "52\n",
      "1\n",
      "10\n",
      "31\n",
      "48\n",
      "5\n",
      "30\n",
      "39\n",
      "47\n",
      "22\n",
      "23\n",
      "24\n",
      "41\n",
      "9\n",
      "11\n",
      "12\n",
      "14\n",
      "3\n",
      "4\n",
      "6\n",
      "40\n"
     ]
    }
   ],
   "source": [
    "for c in churches:\n",
    "    for t in range(4):\n",
    "        print(solver.Value(scheduled_times[c,t]))"
   ]
  },
  {
   "cell_type": "code",
   "execution_count": 2,
   "id": "65f8410d",
   "metadata": {},
   "outputs": [
    {
     "name": "stderr",
     "output_type": "stream",
     "text": [
      "2023-10-23 23:06:30.849 \n",
      "  \u001b[33m\u001b[1mWarning:\u001b[0m to view this Streamlit app on a browser, run it with the following\n",
      "  command:\n",
      "\n",
      "    streamlit run C:\\Users\\ryder\\AppData\\Local\\Programs\\Python\\Python311\\Lib\\site-packages\\ipykernel_launcher.py [ARGUMENTS]\n"
     ]
    },
    {
     "data": {
      "text/plain": [
       "DeltaGenerator()"
      ]
     },
     "execution_count": 2,
     "metadata": {},
     "output_type": "execute_result"
    }
   ],
   "source": [
    "st.title('Family Promise Volunteer Schedule')"
   ]
  },
  {
   "cell_type": "code",
   "execution_count": null,
   "id": "39c43ad1",
   "metadata": {},
   "outputs": [],
   "source": []
  }
 ],
 "metadata": {
  "kernelspec": {
   "display_name": "Python 3 (ipykernel)",
   "language": "python",
   "name": "python3"
  },
  "language_info": {
   "codemirror_mode": {
    "name": "ipython",
    "version": 3
   },
   "file_extension": ".py",
   "mimetype": "text/x-python",
   "name": "python",
   "nbconvert_exporter": "python",
   "pygments_lexer": "ipython3",
   "version": "3.11.4"
  }
 },
 "nbformat": 4,
 "nbformat_minor": 5
}
